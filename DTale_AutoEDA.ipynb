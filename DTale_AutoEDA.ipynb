{
  "nbformat": 4,
  "nbformat_minor": 0,
  "metadata": {
    "colab": {
      "provenance": [],
      "collapsed_sections": [],
      "authorship_tag": "ABX9TyPXEl9EbRnaWrhCTgnLF7tM",
      "include_colab_link": true
    },
    "kernelspec": {
      "name": "python3",
      "display_name": "Python 3"
    },
    "language_info": {
      "name": "python"
    }
  },
  "cells": [
    {
      "cell_type": "markdown",
      "metadata": {
        "id": "view-in-github",
        "colab_type": "text"
      },
      "source": [
        "<a href=\"https://colab.research.google.com/github/Chaitra-B-V/EDA-ApacheBeam/blob/main/DTale_AutoEDA.ipynb\" target=\"_parent\"><img src=\"https://colab.research.google.com/assets/colab-badge.svg\" alt=\"Open In Colab\"/></a>"
      ]
    },
    {
      "cell_type": "markdown",
      "source": [
        "**Census Income**\n",
        "\n",
        "age: continuous.\n",
        "\n",
        "workclass: Private, Self-emp-not-inc, Self-emp-inc, Federal-gov, Local-gov, State-gov, Without-pay, Never-worked.\n",
        "\n",
        "fnlwgt: continuous.\n",
        "\n",
        "education: Bachelors, Some-college, 11th, HS-grad, Prof-school, Assoc-acdm, Assoc-voc, 9th, 7th-8th, 12th, Masters, 1st-4th, 10th, Doctorate, 5th-6th, Preschool.\n",
        "\n",
        "education-num: continuous.\n",
        "\n",
        "marital-status: Married-civ-spouse, Divorced, Never-married, Separated, Widowed, Married-spouse-absent, Married-AF-spouse.\n",
        "\n",
        "occupation: Tech-support, Craft-repair, Other-service, Sales, Exec-managerial, Prof-specialty, Handlers-cleaners, Machine-op-inspct, Adm-clerical, Farming-fishing, Transport-moving, Priv-house-serv, Protective-serv, Armed-Forces.\n",
        "\n",
        "relationship: Wife, Own-child, Husband, Not-in-family, Other-relative, Unmarried.\n",
        "\n",
        "race: White, Asian-Pac-Islander, Amer-Indian-Eskimo, Other, Black.\n",
        "\n",
        "sex: Female, Male.\n",
        "\n",
        "capital-gain: continuous.\n",
        "\n",
        "capital-loss: continuous.\n",
        "\n",
        "hours-per-week: continuous.\n",
        "\n",
        "native-country: United-States, Cambodia, England, Puerto-Rico, Canada, Germany, Outlying-US(Guam-USVI-etc), India, Japan, Greece, South, China, Cuba, Iran, Honduras, Philippines, Italy, Poland, Jamaica, Vietnam, Mexico, Portugal, Ireland, France, Dominican-Republic, Laos, Ecuador, Taiwan, Haiti, Columbia, Hungary, Guatemala, Nicaragua, Scotland, Thailand, Yugoslavia, El-Salvador, Trinadad&Tobago, Peru, Hong, Holand-Netherlands.\n",
        "\n",
        "class: >50K, <=50K"
      ],
      "metadata": {
        "id": "N0cTNJobc032"
      }
    },
    {
      "cell_type": "code",
      "source": [
        "!pip install dtale"
      ],
      "metadata": {
        "id": "CyqdFm-BeeZx"
      },
      "execution_count": null,
      "outputs": []
    },
    {
      "cell_type": "code",
      "execution_count": 4,
      "metadata": {
        "colab": {
          "base_uri": "https://localhost:8080/"
        },
        "id": "NJDxpEbGc9m8",
        "outputId": "b6fe8738-2259-4a30-9001-ed4bfb15d75c"
      },
      "outputs": [
        {
          "output_type": "stream",
          "name": "stdout",
          "text": [
            "   39          State-gov   77516   Bachelors   13        Never-married  \\\n",
            "0  50   Self-emp-not-inc   83311   Bachelors   13   Married-civ-spouse   \n",
            "1  38            Private  215646     HS-grad    9             Divorced   \n",
            "2  53            Private  234721        11th    7   Married-civ-spouse   \n",
            "3  28            Private  338409   Bachelors   13   Married-civ-spouse   \n",
            "4  37            Private  284582     Masters   14   Married-civ-spouse   \n",
            "\n",
            "         Adm-clerical   Not-in-family   White     Male   2174   0   40  \\\n",
            "0     Exec-managerial         Husband   White     Male      0   0   13   \n",
            "1   Handlers-cleaners   Not-in-family   White     Male      0   0   40   \n",
            "2   Handlers-cleaners         Husband   Black     Male      0   0   40   \n",
            "3      Prof-specialty            Wife   Black   Female      0   0   40   \n",
            "4     Exec-managerial            Wife   White   Female      0   0   40   \n",
            "\n",
            "    United-States   <=50K  \n",
            "0   United-States   <=50K  \n",
            "1   United-States   <=50K  \n",
            "2   United-States   <=50K  \n",
            "3            Cuba   <=50K  \n",
            "4   United-States   <=50K  \n"
          ]
        }
      ],
      "source": [
        "# I have used the same data for EDA and Auto-EDA to understand the difference\n",
        "import pandas as pd\n",
        "d=pd.read_csv(r\"adult.csv\")\n",
        "print(d.head())"
      ]
    },
    {
      "cell_type": "code",
      "source": [
        "d.columns=['age','workclass','fnlwgt','education','education-num',\n",
        "           'marital-status','occupation','relationship','race','sex',\n",
        "           'capital-gain','capital-loss','hours-per-week','native-country','class']\n",
        "print(\"columns=\", d.columns)\n",
        "print(\"shape of the data\",d.shape)"
      ],
      "metadata": {
        "colab": {
          "base_uri": "https://localhost:8080/"
        },
        "id": "NDxlQk6OdprP",
        "outputId": "46a2ad73-8015-4296-b2cb-14c099c841d9"
      },
      "execution_count": 5,
      "outputs": [
        {
          "output_type": "stream",
          "name": "stdout",
          "text": [
            "columns= Index(['age', 'workclass', 'fnlwgt', 'education', 'education-num',\n",
            "       'marital-status', 'occupation', 'relationship', 'race', 'sex',\n",
            "       'capital-gain', 'capital-loss', 'hours-per-week', 'native-country',\n",
            "       'class'],\n",
            "      dtype='object')\n",
            "shape of the data (32560, 15)\n"
          ]
        }
      ]
    },
    {
      "cell_type": "code",
      "source": [
        "import dtale"
      ],
      "metadata": {
        "id": "eZN-4oHgexWd"
      },
      "execution_count": 10,
      "outputs": []
    },
    {
      "cell_type": "code",
      "source": [
        "#Click the link and go to visualize to check for describe  \n",
        "import dtale.app as dtale_app\n",
        "\n",
        "dtale_app.USE_COLAB = True\n",
        "dtale.show(d)"
      ],
      "metadata": {
        "colab": {
          "base_uri": "https://localhost:8080/",
          "height": 34
        },
        "id": "BKqDovWGe4xF",
        "outputId": "599a533e-042f-4007-c14c-b90afde8643c"
      },
      "execution_count": 11,
      "outputs": [
        {
          "output_type": "execute_result",
          "data": {
            "text/plain": [
              "https://mtkpu8u1haf-496ff2e9c6d22116-40000-colab.googleusercontent.com/dtale/main/1"
            ]
          },
          "metadata": {},
          "execution_count": 11
        }
      ]
    }
  ]
}