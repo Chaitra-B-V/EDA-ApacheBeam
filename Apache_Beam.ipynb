{
  "nbformat": 4,
  "nbformat_minor": 0,
  "metadata": {
    "colab": {
      "provenance": [],
      "collapsed_sections": [],
      "authorship_tag": "ABX9TyPSiKjuD3xabntFFhuY0Mf5",
      "include_colab_link": true
    },
    "kernelspec": {
      "name": "python3",
      "display_name": "Python 3"
    },
    "language_info": {
      "name": "python"
    }
  },
  "cells": [
    {
      "cell_type": "markdown",
      "metadata": {
        "id": "view-in-github",
        "colab_type": "text"
      },
      "source": [
        "<a href=\"https://colab.research.google.com/github/Chaitra-B-V/EDA-ApacheBeam/blob/main/Apache_Beam.ipynb\" target=\"_parent\"><img src=\"https://colab.research.google.com/assets/colab-badge.svg\" alt=\"Open In Colab\"/></a>"
      ]
    },
    {
      "cell_type": "markdown",
      "source": [
        "Using Composite Transform to filter the census data withrespect to employee type and retrieving the number of records with filtered type( private and govt employee)"
      ],
      "metadata": {
        "id": "yGij-qYyAJWZ"
      }
    },
    {
      "cell_type": "code",
      "execution_count": null,
      "metadata": {
        "id": "UhaEQdHi0Qpn"
      },
      "outputs": [],
      "source": [
        "!pip install apache_beam"
      ]
    },
    {
      "cell_type": "code",
      "metadata": {
        "colab": {
          "base_uri": "https://localhost:8080/"
        },
        "id": "uFfV61v2bbws",
        "outputId": "76d01dd2-157e-4c3e-c365-c325e8f67337"
      },
      "source": [
        "import apache_beam as beam\n",
        "#composite transform\n",
        "class CustomTransform(beam.PTransform):\n",
        "  \n",
        "  def expand(self, input_coll):\n",
        "    \n",
        "    a = ( \n",
        "        input_coll\n",
        "                       | 'Group and sum' >> beam.CombinePerKey(sum)\n",
        "                       | 'count filter accounts' >> beam.Filter(filter_on_count)\n",
        "                       | 'Regular accounts employee' >> beam.Map(format_output)\n",
        "              \n",
        "    )\n",
        "    return a\n",
        "#to split the file with delimiter ','\n",
        "def SplitRow(element):\n",
        "    return element.split(',')\n",
        "  \n",
        "#count the no of records  \n",
        "def filter_on_count(element):\n",
        "  name, count = element\n",
        "  if count > 1:\n",
        "    return element\n",
        "\n",
        "#output format  \n",
        "def format_output(element):\n",
        "  name, count = element\n",
        "  #return ', '.join((name.encode('ascii'),str(count),'Regular employee'))\n",
        "  return ', '.join((name,str(count),'employee type'))\n",
        "#creating beam object\n",
        "p = beam.Pipeline()\n",
        "\n",
        "#read input file\n",
        "input_collection = ( \n",
        "                      p \n",
        "                      | \"Read from text file\" >> beam.io.ReadFromText('/content/Apache_Beam.txt')\n",
        "                      | \"Split rows\" >> beam.Map(SplitRow)\n",
        "                   )\n",
        "#count for private employees\n",
        "private_count = (\n",
        "                      input_collection\n",
        "                      | 'Get all Private Employees' >> beam.Filter(lambda record: record[1] == ' Private')\n",
        "                      | 'Pair each employee with 1' >> beam.Map(lambda record: (\" Private, \" +record[1], 1))\n",
        "                      | 'composite private employee' >> CustomTransform()\n",
        "                      | 'Write results for private employee' >> beam.io.WriteToText('us.txt')\n",
        "                 )\n",
        "\n",
        "#count for state employees\n",
        "state_count = (\n",
        "                input_collection\n",
        "                | 'Get all HR dept persons' >> beam.Filter(lambda record: record[1] == ' State-gov')\n",
        "                | 'Pair each hr employee with 1' >> beam.Map(lambda record: (\" State-gov, \" +record[1], 1))\n",
        "                | 'composite state gov' >> CustomTransform()\n",
        "                | 'Write results for state employee' >> beam.io.WriteToText('germany.txt')\n",
        "           ) \n",
        "p.run()"
      ],
      "execution_count": 13,
      "outputs": [
        {
          "output_type": "execute_result",
          "data": {
            "text/plain": [
              "<apache_beam.runners.portability.fn_api_runner.fn_runner.RunnerResult at 0x7ff753c0f810>"
            ]
          },
          "metadata": {},
          "execution_count": 13
        }
      ]
    }
  ]
}